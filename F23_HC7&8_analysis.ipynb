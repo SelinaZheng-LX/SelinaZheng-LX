{
  "nbformat": 4,
  "nbformat_minor": 0,
  "metadata": {
    "colab": {
      "private_outputs": true,
      "provenance": [],
      "include_colab_link": true
    },
    "kernelspec": {
      "display_name": "Python 3",
      "language": "python",
      "name": "python3"
    },
    "language_info": {
      "codemirror_mode": {
        "name": "ipython",
        "version": 3
      },
      "file_extension": ".py",
      "mimetype": "text/x-python",
      "name": "python",
      "nbconvert_exporter": "python",
      "pygments_lexer": "ipython3",
      "version": "3.8.5"
    }
  },
  "cells": [
    {
      "cell_type": "markdown",
      "metadata": {
        "id": "view-in-github",
        "colab_type": "text"
      },
      "source": [
        "<a href=\"https://colab.research.google.com/github/SelinaZheng-LX/SelinaZheng-LX/blob/main/F23_HC7%268_analysis.ipynb\" target=\"_parent\"><img src=\"https://colab.research.google.com/assets/colab-badge.svg\" alt=\"Open In Colab\"/></a>"
      ]
    },
    {
      "cell_type": "markdown",
      "metadata": {
        "id": "Q5ysDChCGCGR"
      },
      "source": [
        "# HC7 Data Exploration an Cleaning"
      ]
    },
    {
      "cell_type": "markdown",
      "metadata": {
        "id": "XuB6AWBjGCGS"
      },
      "source": [
        "Below you will find a first exploration of the [`NYC_Clean_Heat_Dataset__Historical_.csv`](https://data.cityofnewyork.us/City-Government/NYC-Clean-Heat-Dataset-Historical-/8isn-pgv3) dataset. The goal is for you to learn the tools for data exploration (many of these you learned in our online labs) and then be able to further explore the data and obtain results to report in our final presentation.  \n",
        "\n",
        "As you know, we must first import the packages we will use:"
      ]
    },
    {
      "cell_type": "code",
      "metadata": {
        "id": "K5_ZJpL1GCGU"
      },
      "source": [
        "import pandas as pd\n",
        "import matplotlib.pyplot as plt\n",
        "import gdown"
      ],
      "execution_count": null,
      "outputs": []
    },
    {
      "cell_type": "markdown",
      "metadata": {
        "id": "BSHuK5DQGCGU"
      },
      "source": [
        "## EXPLORE THE DATA\n",
        "\n",
        "To begin, we will read the data into a pandas dataframe and find out its shape (dimensions)"
      ]
    },
    {
      "cell_type": "code",
      "metadata": {
        "id": "g-Zwdc23mqHf"
      },
      "source": [
        "# download the file from our drive\n",
        "!wget https://huntercsci127.github.io/files/clean_heat_dataset.csv\n",
        "#list the files in the current directory to confirm the file is there\n",
        "!ls\n"
      ],
      "execution_count": null,
      "outputs": []
    },
    {
      "cell_type": "code",
      "source": [
        "!ls\n"
      ],
      "metadata": {
        "id": "W9x-oOLpB5c7"
      },
      "execution_count": null,
      "outputs": []
    },
    {
      "cell_type": "code",
      "metadata": {
        "id": "0u6P30cLGCGV"
      },
      "source": [
        "# read Affordable_Housing_Production_by_Building.csv into a dataframe\n",
        "clean_heat = pd.read_csv(\"clean_heat_dataset.csv\")\n",
        "\n",
        "print(\"The dimension of the table is: \", clean_heat.shape)"
      ],
      "execution_count": null,
      "outputs": []
    },
    {
      "cell_type": "markdown",
      "metadata": {
        "id": "imrbPVd6GCGV"
      },
      "source": [
        "Alternatively, to find out how many observations (rows) in the dataset:"
      ]
    },
    {
      "cell_type": "code",
      "metadata": {
        "id": "n97K3KPcGCGW"
      },
      "source": [
        "print(\"Number of rows: \", len(clean_heat))"
      ],
      "execution_count": null,
      "outputs": []
    },
    {
      "cell_type": "markdown",
      "metadata": {
        "id": "ugQnNPEFGCGW"
      },
      "source": [
        "To find out the names of the columns, we can print the header of the dataframe (with zero rows)"
      ]
    },
    {
      "cell_type": "code",
      "metadata": {
        "id": "SfQsIBbbGCGW"
      },
      "source": [
        "print(\"Column Names:\\n\",clean_heat.head(0))"
      ],
      "execution_count": null,
      "outputs": []
    },
    {
      "cell_type": "markdown",
      "metadata": {
        "id": "z2n6KmDPGCGX"
      },
      "source": [
        "Alternatively, to see sample data, we can print the header of the dataframe with the first two rows:"
      ]
    },
    {
      "cell_type": "code",
      "metadata": {
        "id": "LL_Sqyu_GCGX",
        "scrolled": true
      },
      "source": [
        "print(\"Column Names:\\n\",clean_heat.head(2))"
      ],
      "execution_count": null,
      "outputs": []
    },
    {
      "cell_type": "markdown",
      "metadata": {
        "id": "udj3wT_TqMDs"
      },
      "source": [
        "Oh no! There are too many columns to print, 41 of them! (thats why there is the `...` in between.)  \n",
        "Let's look at what type of data is stored in each column:"
      ]
    },
    {
      "cell_type": "code",
      "metadata": {
        "id": "q0RNQ1KeqLmI"
      },
      "source": [
        "clean_heat.info()"
      ],
      "execution_count": null,
      "outputs": []
    },
    {
      "cell_type": "markdown",
      "metadata": {
        "id": "SZSwhPPgQv-M"
      },
      "source": [
        "You can access speicfic columns using exact the same name included in quotes and get the head of the dataframe with the selected columns (as shown below)"
      ]
    },
    {
      "cell_type": "code",
      "metadata": {
        "id": "8OuSDqlLRSFe"
      },
      "source": [
        "print(\"Project Name:\\n\",clean_heat['Boiler Model'].head(5))"
      ],
      "execution_count": null,
      "outputs": []
    },
    {
      "cell_type": "markdown",
      "metadata": {
        "id": "zqcRN7CdGCGY"
      },
      "source": [
        "We can use `describe()` to get some stats for the numerical data, shown as follows. Some of the output make sense, for example, calculate the average, maximum, or minimum number of 2-BR Units, but some of the output will not be used, for example, the mean of Postcode."
      ]
    },
    {
      "cell_type": "code",
      "metadata": {
        "id": "hsgyg6VjGCGY"
      },
      "source": [
        "clean_heat.describe()"
      ],
      "execution_count": null,
      "outputs": []
    },
    {
      "cell_type": "markdown",
      "metadata": {
        "id": "iVHLmqEIGCGZ"
      },
      "source": [
        "The function `describe()` gives the number of values (`count`), average, standard deviation, minimum and maximum values as well as the 25th, 50th and 75th percentiles, **for each numerical column**. As you can see, not all numerical values can be treated equally. For example, it doesn't make much sense to take the average and standard deviation of a postcode or the year of the deadline. It is, however, useful to know what the max and min values for the deadline years are.  \n",
        "To retrieve and print the stats **for a particular column**:"
      ]
    },
    {
      "cell_type": "code",
      "metadata": {
        "id": "0Sm_6DgGGCGa"
      },
      "source": [
        "num_stats = clean_heat.describe()\n",
        "print(\"Statistics for 'Total MMBTU' column:\\n\",num_stats['Total MMBTU (High)'])"
      ],
      "execution_count": null,
      "outputs": []
    },
    {
      "cell_type": "markdown",
      "metadata": {
        "id": "05pP-YZfGCGa"
      },
      "source": [
        "The `describe()` function, as called above, provides statistics for numerical data. To get some information for the categorical data:"
      ]
    },
    {
      "cell_type": "code",
      "metadata": {
        "id": "380EC47IGCGb"
      },
      "source": [
        "clean_heat.describe( include=['O'])"
      ],
      "execution_count": null,
      "outputs": []
    },
    {
      "cell_type": "markdown",
      "metadata": {
        "id": "rd0ZM9JmGCGb"
      },
      "source": [
        "The `describe()` function with `include=['O']` argument (that is a capital letter O), will provide the number of values (`count`), the number of unique values, the most frequent value (`top`) and the frequency of that value, **for each categorical column**.\n",
        "You can see that some data that is encoded categorically, like `Bldg Sqft`, shoudl really be numerical, while some numerical data, like `BIN` (Buidling Identification Number), should really be categorical.  \n",
        "We encoruage you to convert such columns in your data cleaning phase."
      ]
    },
    {
      "cell_type": "markdown",
      "source": [],
      "metadata": {
        "id": "xySm2OWS95H2"
      }
    },
    {
      "cell_type": "markdown",
      "metadata": {
        "id": "ituCueXoGCGb"
      },
      "source": [
        "As we did above, if you want to extract the stats **for a particular categorical column**:"
      ]
    },
    {
      "cell_type": "code",
      "metadata": {
        "id": "X1n7IiT0GCGb"
      },
      "source": [
        "cat_stats = clean_heat.describe(include=['O'])\n",
        "print(\"Borough:\\n\", cat_stats['Borough'])"
      ],
      "execution_count": null,
      "outputs": []
    },
    {
      "cell_type": "markdown",
      "metadata": {
        "id": "b5YYzEe5GCGc"
      },
      "source": [
        "Here we can see that all rows specify the `Borough` (count is the same as the number of rows in the dataset, which is 4789 as we saw earlier). We can also observe that there are 5 boroughs (unique == 5) and that Manhattan (marked by top) has most projects (2597).\n",
        "\n",
        "Let's look at another column:"
      ]
    },
    {
      "cell_type": "code",
      "metadata": {
        "id": "r2IL204PGCGc"
      },
      "source": [
        "print(\"Statistics for Burner Model:\\n\", cat_stats['Burner Model'])"
      ],
      "execution_count": null,
      "outputs": []
    },
    {
      "cell_type": "markdown",
      "metadata": {
        "id": "9yeBgTcDGCGc"
      },
      "source": [
        "Here we also see that not all rows have an entry for `Burner Model` (count is less than number of rows in the dataset), we see that there are 2624 (marked as unique) different models, the most frequent model is \"ICI DEG 42P\"."
      ]
    },
    {
      "cell_type": "markdown",
      "metadata": {
        "id": "3LtJeCONGCGd"
      },
      "source": [
        "## CLEAN THE DATA  \n",
        "\n",
        "It is always a good idea to clean your data before you start working. The most common problem you will encouter is missing data. If some rows do not provide a value for a particular feature (column), you may encounter errors when you try to compute statistics or plot the data.   \n",
        "\n",
        "To check if there are any missing values by suming up the null values for each column:"
      ]
    },
    {
      "cell_type": "code",
      "metadata": {
        "id": "ykoeQMmiGCGe"
      },
      "source": [
        "print(\"Number of dataponts with null entry for each column:\\n\",clean_heat.isnull().sum())"
      ],
      "execution_count": null,
      "outputs": []
    },
    {
      "cell_type": "markdown",
      "metadata": {
        "id": "0l4I1U0dGCGe"
      },
      "source": [
        "Here we see that there are many columns that have missing values (non-zero)."
      ]
    },
    {
      "cell_type": "markdown",
      "metadata": {
        "id": "nnOU5YuZGCGf"
      },
      "source": [
        "To find out if there are multiple rows for the same building, we can use `value_counts()` on that column"
      ]
    },
    {
      "cell_type": "code",
      "metadata": {
        "id": "AlobDNE1GCGf"
      },
      "source": [
        "clean_heat['BIN'].value_counts()"
      ],
      "execution_count": null,
      "outputs": []
    },
    {
      "cell_type": "markdown",
      "metadata": {
        "id": "DeecU7CMGCGg"
      },
      "source": [
        "Indeed, there are multiple entries for the same building, For example, there are 10 occurrences fir BIN 4455390.\n",
        "So now, **let's clean the data** by removing the null values.  \n",
        "We can do that by replacing null values for our numerical columns with 0"
      ]
    },
    {
      "cell_type": "code",
      "source": [
        "columns= ['Borough, Block, Lot #', 'Street Address', 'Postcode', 'Borough', 'Utility', 'Building Manager', 'Owner', 'Owner Address', 'Owner Telephone', 'DEP Boiler Application #', '#6 Deadline', 'Boiler Model', '# of Identical Boilers', 'Boiler Capacity (Gross  BTU)', 'Boiler Installation Date', 'Boiler Age Range', 'Est. Retirement Year', 'Burner Model', 'Primary Fuel', 'Total Gallons (High)', 'Total Gallons (Low)', 'Total MMBTU (High)', 'Total MMBTU (low)', 'Greener Greater Buildings', 'GGB Deadline', 'Building Type', 'Council District', 'Community Board', 'Bldg Sqft', '# of Bldgs', '# of Floors', '# of Res. Units', 'Total Units', 'Year Built', 'Condo?', 'Coop?', 'Latitude', 'Longitude', 'Census Tract', 'BIN', 'BBL', 'NTA']\n",
        "cat_columns= ['Street Address', 'Borough', 'Utility', 'Building Manager', 'Owner','Owner Address','Owner Telephone', 'DEP Boiler Application #','Boiler Model','Boiler Age Range', 'Burner Model', 'Primary Fuel', 'Building Type', 'Community Board', 'Bldg Sqft', 'Condo?', 'Coop?', 'NTA']\n",
        "num_columns=['Borough, Block, Lot #','Postcode','#6 Deadline','# of Identical Boilers','Boiler Capacity (Gross  BTU)', 'Boiler Installation Date',  'Est. Retirement Year', 'Total Gallons (Low)', 'Total MMBTU (High)', 'Total MMBTU (low)', 'Greener Greater Buildings', 'GGB Deadline', 'Council District', '# of Bldgs', '# of Floors', '# of Res. Units', 'Total Units', 'Year Built','Latitude', 'Longitude', 'Census Tract', 'BIN', 'BBL']"
      ],
      "metadata": {
        "id": "ckIhT0bL5_5q"
      },
      "execution_count": null,
      "outputs": []
    },
    {
      "cell_type": "code",
      "metadata": {
        "id": "iBCgRvSqGCGg"
      },
      "source": [
        "#clean_heat.fillna(num_columns:0,inplace=True)\n",
        "clean_heat[num_columns]=clean_heat[num_columns].fillna(value=0)\n",
        "# affordable.fillna({'Council District':0},inplace=True)\n",
        "# affordable.fillna({'Latitude':0, 'Longitude':0},inplace=True)\n",
        "# affordable.fillna({'Latitude (Internal)':0, 'Longitude (Internal)':0},inplace=True)"
      ],
      "execution_count": null,
      "outputs": []
    },
    {
      "cell_type": "markdown",
      "metadata": {
        "id": "t9CnwwUpGCGg"
      },
      "source": [
        "And replace null values in our categorical data (string values) with the empty string:"
      ]
    },
    {
      "cell_type": "code",
      "metadata": {
        "id": "WDvaXt07GCGg"
      },
      "source": [
        "clean_heat[cat_columns]=clean_heat[cat_columns].fillna(value=\"\")"
      ],
      "execution_count": null,
      "outputs": []
    },
    {
      "cell_type": "markdown",
      "source": [
        "If you look at the categorical data description, you may find more sensible replacements for some of the columns. We encourage you to do that."
      ],
      "metadata": {
        "id": "cQP7y0jX67JT"
      }
    },
    {
      "cell_type": "markdown",
      "metadata": {
        "id": "uADqqTpcGCGh"
      },
      "source": [
        "Now we can check to make sure we got rid of all null values:"
      ]
    },
    {
      "cell_type": "code",
      "metadata": {
        "id": "POW8bSjQGCGh"
      },
      "source": [
        "print(clean_heat.isnull().sum())"
      ],
      "execution_count": null,
      "outputs": []
    },
    {
      "cell_type": "markdown",
      "metadata": {
        "id": "YVGorTdQGCGh"
      },
      "source": [
        "And voila', our data that are of **number** or **string** type are free of null values!!!   \n",
        "\n",
        "These substitutions may not be the most appropriate for all categorical or numerical data and, as mentioned above, some data encoded as categorical may be more appropriate considered as numerical or vice versa. We encourage you to take care of this in the way that best supports your analysis.\n"
      ]
    },
    {
      "cell_type": "markdown",
      "metadata": {
        "id": "IuMKtZiJGCGi"
      },
      "source": [
        "# VISUALIZE THE DATA\n",
        "\n",
        "### Let's look at the data by borough:  \n",
        "\n",
        "To find out the names of the boroughs (we kind of know this already...):"
      ]
    },
    {
      "cell_type": "code",
      "metadata": {
        "id": "LwXwL06PGCGi"
      },
      "source": [
        "print(\"Unique Borough Names:\\n\", clean_heat.Borough.unique())"
      ],
      "execution_count": null,
      "outputs": []
    },
    {
      "cell_type": "markdown",
      "metadata": {
        "id": "oA2FPXoJGCGi"
      },
      "source": [
        "Let's group the data by borough (`Borough`)"
      ]
    },
    {
      "cell_type": "code",
      "metadata": {
        "id": "sVbNW8rEGCGj"
      },
      "source": [
        "boro_group = clean_heat.groupby(['Borough'])"
      ],
      "execution_count": null,
      "outputs": []
    },
    {
      "cell_type": "markdown",
      "metadata": {
        "id": "N7uqREU6GCGj"
      },
      "source": [
        "Now that the data is grouped by borough in boro_group, let's plot the data to observe the average total gallons per borough:"
      ]
    },
    {
      "cell_type": "code",
      "metadata": {
        "id": "2cro8tcYGCGj"
      },
      "source": [
        "boro_group['Total Gallons (High)'].mean().plot.bar()"
      ],
      "execution_count": null,
      "outputs": []
    },
    {
      "cell_type": "markdown",
      "metadata": {
        "id": "7nSYtiK_GCGj"
      },
      "source": [
        "To save your plot in an image file you can do the following to leave more space at the bottom of the figure to fully visualize the names of the boroughs on the x axis, label the y axis, and then clear the figure so we can make more plots later:"
      ]
    },
    {
      "cell_type": "code",
      "metadata": {
        "id": "nNAJjq3BGCGj"
      },
      "source": [
        "#create more space for x-axis labels\n",
        "plt.gcf().subplots_adjust(bottom=0.25)\n",
        "plt.ylabel('Average total gallons')\n",
        "#get the current figure\n",
        "fig = plt.gcf()\n",
        "#save figure to an image file\n",
        "fig.savefig('mean_gallons_per_boro.png')\n",
        "\n",
        "#clear figure to generate next pyplot\n",
        "plt.clf()"
      ],
      "execution_count": null,
      "outputs": []
    },
    {
      "cell_type": "markdown",
      "metadata": {
        "id": "ybXN0GPyGCGk"
      },
      "source": [
        "\n",
        "Let's now plot the data to observe Reporting Construction Type by borough:"
      ]
    },
    {
      "cell_type": "code",
      "metadata": {
        "id": "7a28C4CEGCGk"
      },
      "source": [
        "#Generate the number of Preservation or New Construction with value_count()\n",
        "boro_group['Primary Fuel'].value_counts().plot.bar()"
      ],
      "execution_count": null,
      "outputs": []
    },
    {
      "cell_type": "markdown",
      "metadata": {
        "id": "A5QGaQhDGCGn"
      },
      "source": [
        "Let's say I now want to look at data from Staten Island only (**note I am selecting rows here!!!**)"
      ]
    },
    {
      "cell_type": "code",
      "metadata": {
        "id": "drp1MXjl4Ta5"
      },
      "source": [
        "#Select only buildings in Staten Island\n",
        "st = clean_heat[clean_heat['Borough'].isin(['Staten Island'])]\n",
        "print(\"Number of entries in Staten Island: \", len(st))"
      ],
      "execution_count": null,
      "outputs": []
    },
    {
      "cell_type": "markdown",
      "metadata": {
        "id": "XJdVpa9lNv3Z"
      },
      "source": [
        "I now have a new dataframe called st with only rows where borough == 'Staten Island\", and I can see that there are only 6 entries for Staten Island."
      ]
    },
    {
      "cell_type": "code",
      "metadata": {
        "id": "OgLE0OlFGCGn"
      },
      "source": [
        "#Graph data from only Staten Island\n",
        "st['Primary Fuel'].value_counts().plot.bar()"
      ],
      "execution_count": null,
      "outputs": []
    },
    {
      "cell_type": "markdown",
      "metadata": {
        "id": "l_kbjLeBOnQN"
      },
      "source": [
        "Now we can see the values and bars for Staten Island!"
      ]
    },
    {
      "cell_type": "markdown",
      "metadata": {
        "id": "uTix7f1bGCGn"
      },
      "source": [
        "\n",
        "\n",
        "### YOUR TURN!\n",
        "\n",
        "Now that you know how to explore the data, clean the data, obtain statistics about the data, visualize the data and select a subset of the data based on the value in a particular column (e.g. neighbourhood_group == 'Staten Island\"), think about how you want to explore the data for your analysis:    \n",
        "  1. As a group, think about an overall data-driven discussion of your borough and how it compares to the others.  \n",
        "  2. Individually, analyze the data in your borough and compare to the data for other boroughs.\n",
        "  \n",
        "As you explore your data, keep in mind your analysis and findings from HC2 and HC3 and see if you can make any connections, or if you find that the data supports those findings."
      ]
    },
    {
      "cell_type": "code",
      "source": [],
      "metadata": {
        "id": "XAIU-WskHJCI"
      },
      "execution_count": null,
      "outputs": []
    }
  ]
}